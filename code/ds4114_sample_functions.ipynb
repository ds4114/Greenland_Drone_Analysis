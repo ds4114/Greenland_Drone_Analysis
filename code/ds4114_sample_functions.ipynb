{
 "cells": [
  {
   "cell_type": "code",
   "execution_count": null,
   "id": "faedca29",
   "metadata": {},
   "outputs": [],
   "source": [
    "#imports"
   ]
  },
  {
   "cell_type": "code",
   "execution_count": null,
   "id": "84a5179d",
   "metadata": {},
   "outputs": [],
   "source": [
    "def process_image(file: str):\n",
    "    \"\"\"\n",
    "    Ingest a single image file and convert to usable format \n",
    "    potentially plot and create statistics of data\n",
    "    \n",
    "    Parameters\n",
    "    ----------\n",
    "    file : string\n",
    "        The file name/path of the image to process\n",
    "        \n",
    "    Returns\n",
    "    ----------\n",
    "    TBD\n",
    "    \"\"\"\n",
    "    \n",
    "    return none"
   ]
  }
 ],
 "metadata": {
  "kernelspec": {
   "display_name": "Python 3 (ipykernel)",
   "language": "python",
   "name": "python3"
  },
  "language_info": {
   "codemirror_mode": {
    "name": "ipython",
    "version": 3
   },
   "file_extension": ".py",
   "mimetype": "text/x-python",
   "name": "python",
   "nbconvert_exporter": "python",
   "pygments_lexer": "ipython3",
   "version": "3.9.12"
  }
 },
 "nbformat": 4,
 "nbformat_minor": 5
}
