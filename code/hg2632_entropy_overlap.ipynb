{
 "cells": [
  {
   "cell_type": "code",
   "execution_count": 1,
   "id": "b8e4c376",
   "metadata": {
    "executionInfo": {
     "elapsed": 474,
     "status": "ok",
     "timestamp": 1700865221548,
     "user": {
      "displayName": "Hugo Ginoux",
      "userId": "11936916536880489721"
     },
     "user_tz": 300
    },
    "id": "2bkbjbV4cmta"
   },
   "outputs": [],
   "source": [
    "import cv2\n",
    "import os\n",
    "from PIL import Image\n",
    "import numpy as np\n",
    "import matplotlib.pyplot as plt\n",
    "from tifffile import imread, imwrite\n",
    "\n",
    "######################## swap low and medium\n",
    "\n",
    "size_low_image_tif = np.array(Image.open(\"matching_images/low/extract/green_template_matched_region.tif\")).shape\n",
    "size_med_image_tif = np.array(Image.open(\"matching_images/medium/extract/green_template_matched_region.tif\")).shape\n",
    "size_top_image_tif = np.array(Image.open(\"matching_images/top/extract/green_template_matched_region.tif\")).shape"
   ]
  },
  {
   "cell_type": "code",
   "execution_count": 2,
   "id": "c80a37c0",
   "metadata": {},
   "outputs": [
    {
     "data": {
      "text/plain": [
       "(2494, 3679)"
      ]
     },
     "execution_count": 2,
     "metadata": {},
     "output_type": "execute_result"
    }
   ],
   "source": [
    "size_low_image_tif"
   ]
  },
  {
   "cell_type": "code",
   "execution_count": 3,
   "id": "e0957e64",
   "metadata": {},
   "outputs": [
    {
     "data": {
      "text/plain": [
       "(4000, 5900)"
      ]
     },
     "execution_count": 3,
     "metadata": {},
     "output_type": "execute_result"
    }
   ],
   "source": [
    "size_med_image_tif"
   ]
  },
  {
   "cell_type": "code",
   "execution_count": 4,
   "id": "488769c1",
   "metadata": {},
   "outputs": [
    {
     "data": {
      "text/plain": [
       "(1547, 2282)"
      ]
     },
     "execution_count": 4,
     "metadata": {},
     "output_type": "execute_result"
    }
   ],
   "source": [
    "size_top_image_tif"
   ]
  },
  {
   "cell_type": "markdown",
   "id": "6ee630d8",
   "metadata": {
    "id": "9c686235"
   },
   "source": [
    "# 1. Define Differential Entropy\n",
    "\n",
    "https://stats.stackexchange.com/questions/235270/entropy-of-an-image\n",
    "\n",
    "https://arxiv.org/ftp/arxiv/papers/1609/1609.01117.pdf"
   ]
  },
  {
   "cell_type": "code",
   "execution_count": 5,
   "id": "c66e7d61",
   "metadata": {
    "executionInfo": {
     "elapsed": 7,
     "status": "ok",
     "timestamp": 1700864866463,
     "user": {
      "displayName": "Hugo Ginoux",
      "userId": "11936916536880489721"
     },
     "user_tz": 300
    },
    "id": "7f43d84c"
   },
   "outputs": [],
   "source": [
    "def deldensity(image):\n",
    "    \n",
    "    # differentiate\n",
    "    fx = (image[:,2:] - image[:,:-2])[1:-1,:]\n",
    "    fy = (image[2:,:] - image[:-2,:])[:,1:-1]\n",
    "    \n",
    "    # bin the gradient for faster computation\n",
    "    diff_range = np.max([np.abs(fx.min()), np.abs(fx.max()), np.abs(fy.min()), np.abs(fy.max())])\n",
    "    diff_range = 2**(int(np.log2(diff_range))+1) # always power of 2\n",
    "    n_bins = min(1024, 2*diff_range+1)\n",
    "    # Centering the bins is necessary because else all value will lie on\n",
    "    # the bin edges thereby leading to assymetric artifacts\n",
    "    dbin = 0.5\n",
    "    r = diff_range + dbin\n",
    "    delDensity, xedges, yedges = np.histogram2d(fx.flatten(), fy.flatten(), bins = n_bins, range = [[-r,r], [-r,r]])\n",
    "    \n",
    "    return delDensity, xedges, yedges\n",
    "\n",
    "def H_image(image, plot=False):\n",
    "\n",
    "    delDensity, xedges, yedges = deldensity(image)\n",
    "    \n",
    "    # compute entropy\n",
    "    p = (delDensity / np.sum(delDensity)).T\n",
    "    H = - 1/2 * np.sum(p[p.nonzero() ] * np.log2(p[p.nonzero()]))\n",
    "    \n",
    "    if plot:\n",
    "        fig = plt.figure()\n",
    "        ax = [\n",
    "            fig.add_subplot(221, title = f\"Original Image\"),\n",
    "            fig.add_subplot(222, title = \"Gradient\")\n",
    "        ]\n",
    "        ax[0].imshow(image, cmap=plt.cm.gray)\n",
    "        ax[1].imshow(delDensity, cmap=plt.cm.gray, vmin = 0, interpolation='nearest', origin='lower',\n",
    "                extent = [ xedges[0], xedges[-1], yedges[0], yedges[-1]])\n",
    "        fig.tight_layout()\n",
    "        plt.show()\n",
    "        \n",
    "    return H"
   ]
  },
  {
   "cell_type": "markdown",
   "id": "0e18ebd5",
   "metadata": {
    "id": "cb58baf2"
   },
   "source": [
    "## 2. Comparing different heights (jpg files from online converter)"
   ]
  },
  {
   "cell_type": "code",
   "execution_count": 6,
   "id": "d82911b2",
   "metadata": {
    "colab": {
     "base_uri": "https://localhost:8080/",
     "height": 303
    },
    "executionInfo": {
     "elapsed": 201,
     "status": "error",
     "timestamp": 1700865186375,
     "user": {
      "displayName": "Hugo Ginoux",
      "userId": "11936916536880489721"
     },
     "user_tz": 300
    },
    "id": "5e8820a0",
    "outputId": "a6ca4b40-6560-4cda-b744-d4f878c18c18"
   },
   "outputs": [
    {
     "name": "stdout",
     "output_type": "stream",
     "text": [
      "-------------------------------- channel: green --------------------------------\n",
      "Level low: 4.658436351343609\n",
      "Level medium: 5.154033075231657\n",
      "Level top: 4.824093173152952\n",
      "-------------------------------- channel: red --------------------------------\n",
      "Level low: 4.771264315342844\n",
      "Level medium: 5.222235514448041\n",
      "Level top: 5.011945042263724\n",
      "-------------------------------- channel: red edge --------------------------------\n",
      "Level low: 4.713750163376357\n",
      "Level medium: 5.211943551424208\n",
      "Level top: 4.99490562276438\n",
      "-------------------------------- channel: nir --------------------------------\n",
      "Level low: 4.498882487447538\n",
      "Level medium: 5.135395752415755\n",
      "Level top: 4.48729444099551\n"
     ]
    }
   ],
   "source": [
    "levels = ['low', 'medium', 'top']\n",
    "channels = ['green', 'red', 'red edge', 'nir']\n",
    "\n",
    "\n",
    "for channel in channels:\n",
    "    print(f'-------------------------------- channel: {channel} --------------------------------')\n",
    "        \n",
    "    for level in levels:\n",
    "        \n",
    "        image = Image.open(f\"matching_images/{level}/extract/jpg/{channel}_template_matched_region.jpg\")\n",
    "        image = np.array(image, dtype=int)\n",
    "            \n",
    "        print(f'Level {level}: {H_image(image, plot=False)}')"
   ]
  },
  {
   "cell_type": "markdown",
   "id": "e115706c",
   "metadata": {},
   "source": [
    "## 3. Using directly tiff files"
   ]
  },
  {
   "cell_type": "code",
   "execution_count": 7,
   "id": "08191191",
   "metadata": {},
   "outputs": [],
   "source": [
    "def preprocess_tiff(path):\n",
    "    \n",
    "    # open image\n",
    "    image = Image.open(path)\n",
    "    image = np.array(image)\n",
    "    \n",
    "    # replace 255 with median (~0.2% of pixels)\n",
    "    image[image==255.] = np.nan\n",
    "    image[np.isnan(image)] = np.nanmedian(image)\n",
    "    \n",
    "    #scale between 0 and 255\n",
    "    image = (image - np.min(image)) / (np.max(image) - np.min(image))\n",
    "    image = (image*255).astype(int)\n",
    "    \n",
    "    # expand size\n",
    "    image = Image.fromarray(image).resize(size_low_image_tif)\n",
    "    \n",
    "    return np.array(image, dtype=int)"
   ]
  },
  {
   "cell_type": "code",
   "execution_count": 8,
   "id": "9950f902",
   "metadata": {},
   "outputs": [
    {
     "name": "stdout",
     "output_type": "stream",
     "text": [
      "-------------------------------- channel: green --------------------------------\n",
      "Level low: 4.650614105648631\n",
      "Level medium: 4.836221276495916\n",
      "Level top: 4.443217552970657\n",
      "-------------------------------- channel: red --------------------------------\n",
      "Level low: 4.783990797791145\n",
      "Level medium: 5.039694948332582\n",
      "Level top: 4.622273248789876\n",
      "-------------------------------- channel: red edge --------------------------------\n",
      "Level low: 4.711235387521808\n",
      "Level medium: 4.862575062118339\n",
      "Level top: 4.5611546746628555\n",
      "-------------------------------- channel: nir --------------------------------\n",
      "Level low: 4.48397704362685\n",
      "Level medium: 4.786459344682363\n",
      "Level top: 4.228526063908106\n"
     ]
    }
   ],
   "source": [
    "levels = ['low', 'medium', 'top']\n",
    "channels = ['green', 'red', 'red edge', 'nir']\n",
    "results = {c: {} for c in channels}\n",
    "\n",
    "\n",
    "for channel in channels:\n",
    "    print(f'-------------------------------- channel: {channel} --------------------------------')\n",
    "        \n",
    "    for level in levels:\n",
    "            \n",
    "        image = preprocess_tiff(f\"matching_images/{level}/extract/{channel}_template_matched_region.tif\")\n",
    "        entropy = H_image(image, plot=False)\n",
    "        results[channel][level] = entropy\n",
    "        \n",
    "        print(f'Level {level}: {entropy}')"
   ]
  },
  {
   "cell_type": "markdown",
   "id": "42d5a03e",
   "metadata": {},
   "source": [
    "## Plot results"
   ]
  },
  {
   "cell_type": "code",
   "execution_count": 9,
   "id": "d2027fed",
   "metadata": {},
   "outputs": [
    {
     "data": {
      "image/png": "[encoded data removed]",
      "text/plain": [
       "<Figure size 720x360 with 1 Axes>"
      ]
     },
     "metadata": {
      "needs_background": "light"
     },
     "output_type": "display_data"
    }
   ],
   "source": [
    "green, red, red_edge, nir = results['green'].values(), results['red'].values(), results['red edge'].values(), results['nir'].values()\n",
    "\n",
    "# Position of bars on x-axis\n",
    "ind = np.arange(3)\n",
    "\n",
    "# Figure size\n",
    "plt.figure(figsize=(10,5))\n",
    "\n",
    "# Width of a bar \n",
    "width = 0.15     \n",
    "\n",
    "# Plotting\n",
    "plt.bar(ind, green , width, label='green', color='lime')\n",
    "plt.bar(ind + width, red, width, label='red', color='red')\n",
    "plt.bar(ind + 2*width, red_edge, width, label='red edge', color='darkred')\n",
    "plt.bar(ind + 3*width, nir, width, label='NIR', color='black')\n",
    "\n",
    "plt.xlabel('Altitude')\n",
    "plt.ylabel('Entropy')\n",
    "plt.title('Variation of entropy with altitude')\n",
    "\n",
    "plt.xticks(ind + 1.5*width, ('Low', 'Medium', 'Height'))\n",
    "plt.ylim(3, 5)\n",
    "\n",
    "plt.legend(loc='best')\n",
    "plt.show()"
   ]
  },
  {
   "cell_type": "code",
   "execution_count": 10,
   "id": "ef889db4",
   "metadata": {},
   "outputs": [
    {
     "data": {
      "image/png": "[encoded data removed]",
      "text/plain": [
       "<Figure size 720x360 with 1 Axes>"
      ]
     },
     "metadata": {
      "needs_background": "light"
     },
     "output_type": "display_data"
    }
   ],
   "source": [
    "low, medium, top = [results[c]['low'] for c in channels], [results[c]['medium'] for c in channels], [results[c]['top'] for c in channels]\n",
    "\n",
    "# Position of bars on x-axis\n",
    "ind = np.arange(4)\n",
    "\n",
    "# Figure size\n",
    "plt.figure(figsize=(10,5))\n",
    "\n",
    "# Width of a bar \n",
    "width = 0.2     \n",
    "\n",
    "# Plotting\n",
    "plt.bar(ind, low, width, label='low', color='skyblue')\n",
    "plt.bar(ind + width, medium, width, label='medium', color='dodgerblue')\n",
    "plt.bar(ind + 2*width, top, width, label='top', color='blue')\n",
    "\n",
    "plt.xlabel('Channel')\n",
    "plt.ylabel('Entropy')\n",
    "plt.title('Variation of entropy with altitude')\n",
    "\n",
    "plt.xticks(ind + width, ('Green', 'Red', 'Red Edge', 'NIR'))\n",
    "plt.ylim(3, 5)\n",
    "\n",
    "plt.legend(loc='best')\n",
    "plt.show()"
   ]
  },
  {
   "cell_type": "code",
   "execution_count": null,
   "id": "83aa8a1f",
   "metadata": {},
   "outputs": [],
   "source": []
  },
  {
   "cell_type": "code",
   "execution_count": null,
   "id": "3112ee74",
   "metadata": {},
   "outputs": [],
   "source": []
  },
  {
   "cell_type": "code",
   "execution_count": null,
   "id": "16f8e2d2",
   "metadata": {},
   "outputs": [],
   "source": []
  },
  {
   "cell_type": "code",
   "execution_count": null,
   "id": "de510b2e",
   "metadata": {},
   "outputs": [],
   "source": []
  }
 ],
 "metadata": {
  "colab": {
   "name": "",
   "version": ""
  },
  "kernelspec": {
   "display_name": "Python 3 (ipykernel)",
   "language": "python",
   "name": "python3"
  },
  "language_info": {
   "codemirror_mode": {
    "name": "ipython",
    "version": 3
   },
   "file_extension": ".py",
   "mimetype": "text/x-python",
   "name": "python",
   "nbconvert_exporter": "python",
   "pygments_lexer": "ipython3",
   "version": "3.9.7"
  }
 },
 "nbformat": 4,
 "nbformat_minor": 5
}
