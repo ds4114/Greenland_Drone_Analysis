{
 "cells": [
  {
   "cell_type": "markdown",
   "metadata": {},
   "source": [
    "For dimensionality:\n",
    "\n",
    "low: 2.63 pix / cm\n",
    "\n",
    "medium: 1.64 pix / cm\n",
    "\n",
    "high: 4.24 pix / cm"
   ]
  },
  {
   "cell_type": "code",
   "execution_count": 1,
   "metadata": {},
   "outputs": [],
   "source": [
    "import cv2\n",
    "from PIL import Image\n",
    "import numpy as np\n",
    "import matplotlib.pyplot as plt\n",
    "from tifffile import imread, imwrite\n",
    "\n",
    "import os\n",
    "import shutil"
   ]
  },
  {
   "cell_type": "code",
   "execution_count": 2,
   "metadata": {},
   "outputs": [],
   "source": [
    "# dimensions\n",
    "dims = {\n",
    "    'low': 2.63,\n",
    "    'medium': 1.64,\n",
    "    'top': 4.24\n",
    "}"
   ]
  },
  {
   "cell_type": "code",
   "execution_count": 3,
   "metadata": {},
   "outputs": [],
   "source": [
    "def get_channel(path):\n",
    "    if 'green' in path:\n",
    "        return 'green'\n",
    "    elif 'red edge' in path or 'red_edge' in path:\n",
    "        return 'red edge'\n",
    "    elif 'nir' in path:\n",
    "        return 'nir'\n",
    "    elif 'red' in path:\n",
    "        return 'red'\n",
    "    else:\n",
    "        return 'N/A'\n",
    "\n",
    "def get_template_dict(level, top, bottom, left, right):\n",
    "    # delete export folder if it exists and make a new one\n",
    "    folder_name = f\"matching_images/templates\"\n",
    "\n",
    "    # Check if the folder exists before deleting it\n",
    "    if os.path.exists(folder_name):\n",
    "        shutil.rmtree(folder_name)\n",
    "    os.makedirs(folder_name)\n",
    "    \n",
    "    # record what level the templates are from\n",
    "    template_dict = {'level': level}\n",
    "    \n",
    "    # path to where the reference images are\n",
    "    folder_path = f\"reflectance_images/v1/{level}\"\n",
    "    # get all channel image paths\n",
    "    channel_image_paths = [f for f in os.listdir(folder_path) if (os.path.isfile(os.path.join(folder_path, f)) and ('.tif' in f))]\n",
    "    for image_path in channel_image_paths:\n",
    "        # open image and transform to np array and extract the reference region\n",
    "        image = Image.open(f\"reflectance_images/v1/{level}/{image_path}\")\n",
    "        image = np.array(image)[top:bottom, left:right]\n",
    "        # get what channel the image is from\n",
    "        channel = get_channel(image_path)\n",
    "        \n",
    "        # add extracted region to dict\n",
    "        template_dict[channel] = image\n",
    "        # export extracted region\n",
    "        cv2.imwrite(folder_name + f\"/{channel}_template.tif\", image)\n",
    "        \n",
    "    return template_dict"
   ]
  },
  {
   "cell_type": "code",
   "execution_count": 4,
   "metadata": {},
   "outputs": [
    {
     "data": {
      "text/plain": [
       "'\\ntemplate_dict = {\\n    green: ~_green.tif,\\n    red: ~_red.tif,\\n    etc\\n}\\n'"
      ]
     },
     "execution_count": 4,
     "metadata": {},
     "output_type": "execute_result"
    }
   ],
   "source": [
    "template_dict = get_template_dict(\"medium\", 1400, 5400, 1400, 7300)\n",
    "\n",
    "\"\"\"\n",
    "template_dict = {\n",
    "    green: ~_green.tif,\n",
    "    red: ~_red.tif,\n",
    "    etc\n",
    "}\n",
    "\"\"\""
   ]
  },
  {
   "cell_type": "code",
   "execution_count": null,
   "metadata": {},
   "outputs": [],
   "source": []
  },
  {
   "cell_type": "code",
   "execution_count": 5,
   "metadata": {},
   "outputs": [],
   "source": [
    "def export_matching_level(level, template_dict):\n",
    "    \n",
    "    folder_name = f\"matching_images/{level}\"\n",
    "\n",
    "    # Check if the folder exists before deleting it\n",
    "    if os.path.exists(folder_name):\n",
    "        shutil.rmtree(folder_name)\n",
    "    # Make all the export folders\n",
    "    os.makedirs(folder_name)\n",
    "    folder_name_extract = f\"matching_images/{level}/extract\"\n",
    "    folder_name_boxed = f\"matching_images/{level}/boxed\"\n",
    "    folder_name_blacked_out = f\"matching_images/{level}/blacked_out\"\n",
    "    os.makedirs(folder_name_extract)\n",
    "    os.makedirs(folder_name_boxed)\n",
    "    os.makedirs(folder_name_blacked_out)\n",
    "\n",
    "    # Path to the reference reflectance mosaic images for the level\n",
    "    image_folder_path = f\"reflectance_images/v1/{level}\"\n",
    "    \n",
    "    # for each image in folder path (ie all the color channels)\n",
    "    image_paths = [f for f in os.listdir(image_folder_path) if (os.path.isfile(os.path.join(image_folder_path, f)) and ('.tif' in f))]\n",
    "    for path in image_paths:\n",
    "        # read image\n",
    "        image = np.array(Image.open(f'{image_folder_path}/{path}'))\n",
    "        # check what channel it is \n",
    "        channel = get_channel(path)\n",
    "        # grab the matching template for this channel\n",
    "        template = template_dict[channel]\n",
    "        # match it against the template its in\n",
    "        scale_factor = dims[template_dict['level']] / dims[level]\n",
    "        # scale the template to the image height\n",
    "        template = cv2.resize(template, (0, 0), fx=scale_factor, fy=scale_factor)\n",
    "        # Match the template in the image using normalized cross-correlation\n",
    "        result = cv2.matchTemplate(image, template, cv2.TM_CCORR_NORMED)\n",
    "        # Find the location of the best match\n",
    "        min_val, max_val, min_loc, max_loc = cv2.minMaxLoc(result)\n",
    "        top_left = max_loc\n",
    "        bottom_right = (top_left[0] + template.shape[1], top_left[1] + template.shape[0])\n",
    "        # Extract the matched region from the original image\n",
    "        matched_region = image[top_left[1]:bottom_right[1], top_left[0]:bottom_right[0]] # [top:bottom, left:right]\n",
    "        \n",
    "        # Fill the pixels outside the matched region with -1000\n",
    "        blacked_out = image.copy()\n",
    "        blacked_out[:top_left[1], :] = -1000  # fill above\n",
    "        blacked_out[bottom_right[1]:, :] = -1000  # fill below\n",
    "        blacked_out[:, :top_left[0]] = -1000  # fill to the left\n",
    "        blacked_out[:, bottom_right[0]:] = -1000  # fill to the right\n",
    "        \n",
    "        # Draw a rectangle around the matched region\n",
    "        cv2.rectangle(image, top_left, bottom_right, 255, 2)\n",
    "\n",
    "        # Save the matched region separately\n",
    "        cv2.imwrite(f\"{folder_name_extract}/{channel}_template_matched_region.tif\", matched_region)\n",
    "        # save the rectangle bounded image\n",
    "        cv2.imwrite(f\"{folder_name_boxed}/{channel}_template_matched_region_bounded.jpg\", image*255)\n",
    "        # save the blacked out image\n",
    "        cv2.imwrite(f\"{folder_name_blacked_out}/{channel}_template_matched_region_blacked_out.tif\", blacked_out)\n",
    "        \n",
    "        # print pixel locations of matched region\n",
    "        print(f\"{level} {channel} Template Matched Region:\")\n",
    "        print(f\"   Top Left: (x: {top_left[0]}, y: {top_left[1]})\")\n",
    "        print(f\"   Bottom Right: (x: {bottom_right[0]}, y: {bottom_right[1]})\")\n",
    "        print()\n"
   ]
  },
  {
   "cell_type": "code",
   "execution_count": 6,
   "metadata": {},
   "outputs": [
    {
     "name": "stderr",
     "output_type": "stream",
     "text": [
      "/Users/samfields/Library/Python/3.9/lib/python/site-packages/PIL/Image.py:3182: DecompressionBombWarning: Image size (105234801 pixels) exceeds limit of 89478485 pixels, could be decompression bomb DOS attack.\n",
      "  warnings.warn(\n"
     ]
    },
    {
     "name": "stdout",
     "output_type": "stream",
     "text": [
      "low red edge Template Matched Region:\n",
      "   Top Left: (x: 3443, y: 4070)\n",
      "   Bottom Right: (x: 7122, y: 6564)\n",
      "\n",
      "low red Template Matched Region:\n",
      "   Top Left: (x: 3443, y: 4070)\n",
      "   Bottom Right: (x: 7122, y: 6564)\n",
      "\n",
      "low green Template Matched Region:\n",
      "   Top Left: (x: 3443, y: 4070)\n",
      "   Bottom Right: (x: 7122, y: 6564)\n",
      "\n",
      "low nir Template Matched Region:\n",
      "   Top Left: (x: 3443, y: 4070)\n",
      "   Bottom Right: (x: 7122, y: 6564)\n",
      "\n",
      "medium red edge Template Matched Region:\n",
      "   Top Left: (x: 1400, y: 1400)\n",
      "   Bottom Right: (x: 7300, y: 5400)\n",
      "\n",
      "medium nir Template Matched Region:\n",
      "   Top Left: (x: 1400, y: 1400)\n",
      "   Bottom Right: (x: 7300, y: 5400)\n",
      "\n",
      "medium red Template Matched Region:\n",
      "   Top Left: (x: 1400, y: 1400)\n",
      "   Bottom Right: (x: 7300, y: 5400)\n",
      "\n",
      "medium green Template Matched Region:\n",
      "   Top Left: (x: 1400, y: 1400)\n",
      "   Bottom Right: (x: 7300, y: 5400)\n",
      "\n"
     ]
    },
    {
     "name": "stderr",
     "output_type": "stream",
     "text": [
      "/Users/samfields/Library/Python/3.9/lib/python/site-packages/PIL/Image.py:3182: DecompressionBombWarning: Image size (123796077 pixels) exceeds limit of 89478485 pixels, could be decompression bomb DOS attack.\n",
      "  warnings.warn(\n"
     ]
    },
    {
     "name": "stdout",
     "output_type": "stream",
     "text": [
      "top red edge Template Matched Region:\n",
      "   Top Left: (x: 5075, y: 4300)\n",
      "   Bottom Right: (x: 7357, y: 5847)\n",
      "\n",
      "top red Template Matched Region:\n",
      "   Top Left: (x: 5074, y: 4301)\n",
      "   Bottom Right: (x: 7356, y: 5848)\n",
      "\n",
      "top green Template Matched Region:\n",
      "   Top Left: (x: 5074, y: 4302)\n",
      "   Bottom Right: (x: 7356, y: 5849)\n",
      "\n",
      "top nir Template Matched Region:\n",
      "   Top Left: (x: 5075, y: 4299)\n",
      "   Bottom Right: (x: 7357, y: 5846)\n",
      "\n"
     ]
    }
   ],
   "source": [
    "levels = ['low', 'medium', 'top']\n",
    "\n",
    "for level in levels:\n",
    "    export_matching_level(level, template_dict)"
   ]
  }
 ],
 "metadata": {
  "colab": {
   "provenance": []
  },
  "kernelspec": {
   "display_name": "Python 3 (ipykernel)",
   "language": "python",
   "name": "python3"
  },
  "language_info": {
   "codemirror_mode": {
    "name": "ipython",
    "version": 3
   },
   "file_extension": ".py",
   "mimetype": "text/x-python",
   "name": "python",
   "nbconvert_exporter": "python",
   "pygments_lexer": "ipython3",
   "version": "3.9.6"
  }
 },
 "nbformat": 4,
 "nbformat_minor": 1
}
