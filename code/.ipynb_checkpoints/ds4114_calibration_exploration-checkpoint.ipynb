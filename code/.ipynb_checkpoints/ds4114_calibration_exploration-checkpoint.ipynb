{
 "cells": [
  {
   "cell_type": "code",
   "execution_count": null,
   "id": "56856734",
   "metadata": {},
   "outputs": [],
   "source": [
    "#just test code to explore"
   ]
  },
  {
   "cell_type": "code",
   "execution_count": 1,
   "id": "983d7b42",
   "metadata": {},
   "outputs": [],
   "source": [
    "#imports\n",
    "import numpy as np\n",
    "import os\n",
    "import cv2\n",
    "import xarray as xr\n",
    "import seaborn as sns\n",
    "import matplotlib.pyplot as plt"
   ]
  },
  {
   "cell_type": "code",
   "execution_count": 33,
   "id": "bfadf79c",
   "metadata": {},
   "outputs": [],
   "source": [
    "def file_to_xr(filepath: str, index: bool, altitude: str, channel: str):\n",
    "    \n",
    "    if index:\n",
    "        arr = (cv2.imread(filepath, cv2.IMREAD_UNCHANGED).astype(np.float32))\n",
    "        fname = 'index'\n",
    "    else:\n",
    "        arr = (cv2.imread(filepath, cv2.IMREAD_GRAYSCALE).astype(np.float32))\n",
    "        fname = 'pixel'\n",
    "    \n",
    "    dim1 = arr.shape[0]\n",
    "    dim2 = arr.shape[1]\n",
    "    yrange = range(0,-1*dim1, -1) #not sure what to agree on for coords but putting (0,0) as top left and making y negative to stay cartesian\n",
    "    xrange = range(0,dim2)\n",
    "    test_xr = xr.DataArray(arr, coords={'altitude':'low','channel':'green'   , 'y': yrange,'x': xrange}, dims=[\"y\", \"x\"], name=fname+'-'+altitude+'-'+channel)\n",
    "    \n",
    "    #cleaning\n",
    "    if index:\n",
    "        test_xr = test_xr.where(test_xr != -10000)\n",
    "\n",
    "    test_xr = test_xr.to_dataset(name=fname+'-'+altitude+'-'+channel)\n",
    "    return test_xr\n",
    "\n",
    "\n",
    "# combine across channels?\n",
    "#test_xr = test_xr.where(test_xr.any(dim = ['channel']) ) #make NaN when all zero across a channel (and altitude) to indicate black space"
   ]
  },
  {
   "cell_type": "code",
   "execution_count": 34,
   "id": "e53df2b8",
   "metadata": {},
   "outputs": [],
   "source": [
    "lgi_file = r'C:\\Users\\Devan\\Downloads\\greenland\\calibration_test\\map3ads_mosaic_index\\map3a_ds_transparent_reflectance_green.tif'\n",
    "lgi = file_to_xr(lgi_file, True, 'low', 'green')\n",
    "lgp_file = r'C:\\Users\\Devan\\Downloads\\greenland\\map3a_transparent_mosaic_green_low.tif'\n",
    "lgp = file_to_xr(lgp_file, False, 'low', 'green')"
   ]
  },
  {
   "cell_type": "code",
   "execution_count": 35,
   "id": "772b6457",
   "metadata": {},
   "outputs": [],
   "source": [
    "calibration_g_file = r'C:\\Users\\Devan\\Downloads\\greenland\\calibration_test\\DJI_20230715084909_0001_MS_G.TIF'\n",
    "calibration_g = file_to_xr(calibration_g_file, False, 'low', 'green')"
   ]
  },
  {
   "cell_type": "code",
   "execution_count": null,
   "id": "69f4ae1c",
   "metadata": {},
   "outputs": [],
   "source": [
    "#check index value of points that match target\n",
    "#calibration_g.sel(x=1074, y=-803) #upper target; about 17 as pixel value\n",
    "#calibration_g.sel(x=1076, y=-828) #middle target; about 54 as pixel value\n",
    "#calibration_g.sel(x=1080, y=-852) #bottom target; about 76 as pixel value\n",
    "test = lgi.where(lgp['pixel-low-green'].isin([54]), drop=True)\n",
    "test.mean() #0.2527\n",
    "\n",
    "testda = test['index-low-green'].stack(xy=['x','y'])\n",
    "testda_filter = testda[testda.notnull()]\n",
    "#print(testda_filter.idxmax())\n",
    "#lgp.sel(x=5,y=-3363) #example point with 54 --> .14 in index\n",
    "#lgp.sel(x=6429,y=-8515) #example point with 54 --> .74 in index "
   ]
  },
  {
   "cell_type": "raw",
   "id": "b812e396",
   "metadata": {},
   "source": [
    "print(lgp.sel(x=5,y=-3363))\n",
    "print(lgi.sel(x=6429,y=-8515))"
   ]
  },
  {
   "cell_type": "code",
   "execution_count": 91,
   "id": "2bc0d99c",
   "metadata": {},
   "outputs": [
    {
     "data": {
      "text/plain": [
       "<Axes: >"
      ]
     },
     "execution_count": 91,
     "metadata": {},
     "output_type": "execute_result"
    },
    {
     "data": {
      "image/png": "[encoded data removed]",
      "text/plain": [
       "<Figure size 640x480 with 1 Axes>"
      ]
     },
     "metadata": {},
     "output_type": "display_data"
    }
   ],
   "source": [
    "sns.boxplot(y=testda_filter.to_numpy())"
   ]
  },
  {
   "cell_type": "code",
   "execution_count": 105,
   "id": "43b746d4",
   "metadata": {},
   "outputs": [
    {
     "name": "stdout",
     "output_type": "stream",
     "text": [
      "<xarray.Dataset>\n",
      "Dimensions:          ()\n",
      "Coordinates:\n",
      "    altitude         <U3 'low'\n",
      "    channel          <U5 'green'\n",
      "Data variables:\n",
      "    index-low-green  float32 0.09391\n"
     ]
    }
   ],
   "source": [
    "test123 = lgi.where(lgp['pixel-low-green'].isin([17]), drop=True)\n",
    "print(test123.mean()) \n",
    "print(test123.min())\n",
    "print(test123.max())"
   ]
  }
 ],
 "metadata": {
  "kernelspec": {
   "display_name": "capstone",
   "language": "python",
   "name": "capstone"
  },
  "language_info": {
   "codemirror_mode": {
    "name": "ipython",
    "version": 3
   },
   "file_extension": ".py",
   "mimetype": "text/x-python",
   "name": "python",
   "nbconvert_exporter": "python",
   "pygments_lexer": "ipython3",
   "version": "3.11.6"
  }
 },
 "nbformat": 4,
 "nbformat_minor": 5
}
